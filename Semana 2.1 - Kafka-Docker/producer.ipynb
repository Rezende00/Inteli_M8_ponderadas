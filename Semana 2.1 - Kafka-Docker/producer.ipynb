{
 "cells": [
  {
   "cell_type": "markdown",
   "metadata": {},
   "source": [
    "# Import libraries"
   ]
  },
  {
   "cell_type": "code",
   "execution_count": 34,
   "metadata": {},
   "outputs": [
    {
     "name": "stdout",
     "output_type": "stream",
     "text": [
      "Requirement already satisfied: requests in /home/pedrocrezende/.pyenv/versions/3.10.6/lib/python3.10/site-packages (2.31.0)\n",
      "Requirement already satisfied: charset-normalizer<4,>=2 in /home/pedrocrezende/.pyenv/versions/3.10.6/lib/python3.10/site-packages (from requests) (3.3.2)\n",
      "Requirement already satisfied: idna<4,>=2.5 in /home/pedrocrezende/.pyenv/versions/3.10.6/lib/python3.10/site-packages (from requests) (3.4)\n",
      "Requirement already satisfied: urllib3<3,>=1.21.1 in /home/pedrocrezende/.pyenv/versions/3.10.6/lib/python3.10/site-packages (from requests) (2.0.7)\n",
      "Requirement already satisfied: certifi>=2017.4.17 in /home/pedrocrezende/.pyenv/versions/3.10.6/lib/python3.10/site-packages (from requests) (2023.7.22)\n",
      "Note: you may need to restart the kernel to use updated packages.\n",
      "Requirement already satisfied: pysqlite3 in /home/pedrocrezende/.pyenv/versions/3.10.6/lib/python3.10/site-packages (0.5.2)\n",
      "Note: you may need to restart the kernel to use updated packages.\n"
     ]
    }
   ],
   "source": [
    "%pip install requests\n",
    "%pip install pysqlite3"
   ]
  },
  {
   "cell_type": "code",
   "execution_count": 43,
   "metadata": {},
   "outputs": [],
   "source": [
    "import requests\n",
    "import json\n",
    "import time\n",
    "from kafka import KafkaProducer"
   ]
  },
  {
   "cell_type": "markdown",
   "metadata": {},
   "source": [
    "# Connection with an API"
   ]
  },
  {
   "cell_type": "code",
   "execution_count": 30,
   "metadata": {},
   "outputs": [
    {
     "data": {
      "text/plain": [
       "'https://br1.api.riotgames.com/lol/summoner/v4/summoners/by-name/LokoLoko00?api_key=RGAPI-945a005d-b5ab-4fbc-883a-c7f781727e4d'"
      ]
     },
     "execution_count": 30,
     "metadata": {},
     "output_type": "execute_result"
    }
   ],
   "source": [
    "api_key= \"RGAPI-945a005d-b5ab-4fbc-883a-c7f781727e4d\" # API KEY que fica ativa somente por 24h (dia 01/11/2023)\n",
    "url = \"https://br1.api.riotgames.com/lol/summoner/v4/summoners/by-name/LokoLoko00\"\n",
    "\n",
    "api_url = url + \"?api_key=\" + api_key\n",
    "api_url"
   ]
  },
  {
   "cell_type": "code",
   "execution_count": 31,
   "metadata": {},
   "outputs": [
    {
     "data": {
      "text/plain": [
       "<Response [200]>"
      ]
     },
     "execution_count": 31,
     "metadata": {},
     "output_type": "execute_result"
    }
   ],
   "source": [
    "response = requests.get(api_url)\n",
    "response"
   ]
  },
  {
   "cell_type": "code",
   "execution_count": 32,
   "metadata": {},
   "outputs": [
    {
     "data": {
      "text/plain": [
       "{'id': 'qgCJKD7lbLjZ1SxGckiPp87vdjaqnT13M6pzmf6wVSc4ExY',\n",
       " 'accountId': '9C0i1eT680yVKF8_GzXjN7IxCg-F4iHYZaLZHsMDrKdCqb0qCxchERi8',\n",
       " 'puuid': 'NPdm8EMy85kH4WLvCLF6ZMwvpezUG27Fqp2lvS4X2-KafoM9iRBwgk2FHI2FQ0mVxgY8kO_xflftMg',\n",
       " 'name': 'LokoLoko00',\n",
       " 'profileIconId': 665,\n",
       " 'revisionDate': 1698645479000,\n",
       " 'summonerLevel': 216}"
      ]
     },
     "execution_count": 32,
     "metadata": {},
     "output_type": "execute_result"
    }
   ],
   "source": [
    "response.json()"
   ]
  },
  {
   "cell_type": "markdown",
   "metadata": {},
   "source": [
    "# Envio do conteúdo"
   ]
  },
  {
   "cell_type": "code",
   "execution_count": 44,
   "metadata": {},
   "outputs": [],
   "source": [
    "producer = KafkaProducer(bootstrap_servers='localhost:9092')"
   ]
  },
  {
   "cell_type": "code",
   "execution_count": 50,
   "metadata": {},
   "outputs": [
    {
     "name": "stdout",
     "output_type": "stream",
     "text": [
      "Obtendo dados de perfil do LOL!\n",
      "Parte (0, 'id') dos dados de perfil, enviado para o Kafka.\n",
      "Obtendo dados de perfil do LOL!\n",
      "Parte (1, 'accountId') dos dados de perfil, enviado para o Kafka.\n",
      "Obtendo dados de perfil do LOL!\n",
      "Parte (2, 'puuid') dos dados de perfil, enviado para o Kafka.\n",
      "Obtendo dados de perfil do LOL!\n",
      "Parte (3, 'name') dos dados de perfil, enviado para o Kafka.\n",
      "Obtendo dados de perfil do LOL!\n",
      "Parte (4, 'profileIconId') dos dados de perfil, enviado para o Kafka.\n",
      "Obtendo dados de perfil do LOL!\n",
      "Parte (5, 'revisionDate') dos dados de perfil, enviado para o Kafka.\n",
      "Obtendo dados de perfil do LOL!\n",
      "Parte (6, 'summonerLevel') dos dados de perfil, enviado para o Kafka.\n",
      "Dados de perfil enviados com sucesso para o tópico do Kafka!\n"
     ]
    }
   ],
   "source": [
    "# Verificando se a requisição foi bem-sucedida (código de status 200)\n",
    "if response.status_code == 200:\n",
    "    # Convertendo a resposta para JSON\n",
    "    data = response.json()\n",
    "\n",
    "    for item in enumerate(data):\n",
    "        print(f\"Obtendo dados de perfil do LOL!\")\n",
    "\n",
    "        # profile_data = requests.get(data).json()\n",
    "\n",
    "        # Verifica se filme_data não está vazio\n",
    "        if item:\n",
    "            # Estruturando os dados para envio ao Kafka\n",
    "            record = {\n",
    "                 \"data\": item,\n",
    "            }\n",
    "\n",
    "            # Convertendo os dados para formato JSON\n",
    "            json_record = json.dumps(record)\n",
    "\n",
    "            producer.send('atividade_kafka', value=json_record.encode('utf-8'))\n",
    "\n",
    "            print(f\"Parte {item} dos dados de perfil, enviado para o Kafka.\")\n",
    "        else:\n",
    "            print(f\"Erro: Dados vazios, referente à {item}.\")\n",
    "    \n",
    "    producer.flush()\n",
    "    producer.close()\n",
    "\n",
    "    print(f\"Dados de perfil enviados com sucesso para o tópico do Kafka!\")\n",
    "else:\n",
    "    print(f\"Erro ao acessar a API da Riot. Código de status: {response.status_code}\")"
   ]
  },
  {
   "cell_type": "markdown",
   "metadata": {},
   "source": [
    "---"
   ]
  },
  {
   "cell_type": "code",
   "execution_count": 16,
   "metadata": {},
   "outputs": [],
   "source": [
    "url_match1 = \"https://americas.api.riotgames.com/lol/match/v5/matches/by-puuid/NPdm8EMy85kH4WLvCLF6ZMwvpezUG27Fqp2lvS4X2-KafoM9iRBwgk2FHI2FQ0mVxgY8kO_xflftMg/ids?start=0&count=20\""
   ]
  },
  {
   "cell_type": "code",
   "execution_count": 17,
   "metadata": {},
   "outputs": [
    {
     "data": {
      "text/plain": [
       "<Response [401]>"
      ]
     },
     "execution_count": 17,
     "metadata": {},
     "output_type": "execute_result"
    }
   ],
   "source": [
    "requests.get(url_match1)"
   ]
  },
  {
   "cell_type": "code",
   "execution_count": 18,
   "metadata": {},
   "outputs": [
    {
     "data": {
      "text/plain": [
       "'https://americas.api.riotgames.com/lol/match/v5/matches/by-puuid/NPdm8EMy85kH4WLvCLF6ZMwvpezUG27Fqp2lvS4X2-KafoM9iRBwgk2FHI2FQ0mVxgY8kO_xflftMg/ids?start=0&count=20&api_key=RGAPI-945a005d-b5ab-4fbc-883a-c7f781727e4d'"
      ]
     },
     "execution_count": 18,
     "metadata": {},
     "output_type": "execute_result"
    }
   ],
   "source": [
    "url_match = url_match1 + \"&api_key=\" + api_key\n",
    "url_match"
   ]
  },
  {
   "cell_type": "code",
   "execution_count": 19,
   "metadata": {},
   "outputs": [
    {
     "data": {
      "text/plain": [
       "<Response [200]>"
      ]
     },
     "execution_count": 19,
     "metadata": {},
     "output_type": "execute_result"
    }
   ],
   "source": [
    "requests.get(url_match)"
   ]
  },
  {
   "cell_type": "code",
   "execution_count": 20,
   "metadata": {},
   "outputs": [
    {
     "data": {
      "text/plain": [
       "['BR1_2829015953',\n",
       " 'BR1_2829012595',\n",
       " 'BR1_2829013049',\n",
       " 'BR1_2829007052',\n",
       " 'BR1_2828999017',\n",
       " 'BR1_2828984693',\n",
       " 'BR1_2828017457',\n",
       " 'BR1_2827993829',\n",
       " 'BR1_2827986071',\n",
       " 'BR1_2827966400',\n",
       " 'BR1_2827947895',\n",
       " 'BR1_2827931525',\n",
       " 'BR1_2827911771',\n",
       " 'BR1_2827898449',\n",
       " 'BR1_2825844352',\n",
       " 'BR1_2825802341',\n",
       " 'BR1_2824803821',\n",
       " 'BR1_2823600222',\n",
       " 'BR1_2823591755',\n",
       " 'BR1_2814348953']"
      ]
     },
     "execution_count": 20,
     "metadata": {},
     "output_type": "execute_result"
    }
   ],
   "source": [
    "resp = requests.get(url_match)\n",
    "matches = resp.json()\n",
    "matches"
   ]
  },
  {
   "cell_type": "code",
   "execution_count": null,
   "metadata": {},
   "outputs": [],
   "source": []
  }
 ],
 "metadata": {
  "kernelspec": {
   "display_name": "Python 3",
   "language": "python",
   "name": "python3"
  },
  "language_info": {
   "codemirror_mode": {
    "name": "ipython",
    "version": 3
   },
   "file_extension": ".py",
   "mimetype": "text/x-python",
   "name": "python",
   "nbconvert_exporter": "python",
   "pygments_lexer": "ipython3",
   "version": "3.10.6"
  }
 },
 "nbformat": 4,
 "nbformat_minor": 2
}
