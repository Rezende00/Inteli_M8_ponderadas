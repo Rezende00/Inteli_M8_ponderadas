{
 "cells": [
  {
   "cell_type": "markdown",
   "metadata": {},
   "source": [
    "# Import libraries"
   ]
  },
  {
   "cell_type": "code",
   "execution_count": 34,
   "metadata": {},
   "outputs": [
    {
     "name": "stdout",
     "output_type": "stream",
     "text": [
      "Requirement already satisfied: requests in /home/pedrocrezende/.pyenv/versions/3.10.6/lib/python3.10/site-packages (2.31.0)\n",
      "Requirement already satisfied: charset-normalizer<4,>=2 in /home/pedrocrezende/.pyenv/versions/3.10.6/lib/python3.10/site-packages (from requests) (3.3.2)\n",
      "Requirement already satisfied: idna<4,>=2.5 in /home/pedrocrezende/.pyenv/versions/3.10.6/lib/python3.10/site-packages (from requests) (3.4)\n",
      "Requirement already satisfied: urllib3<3,>=1.21.1 in /home/pedrocrezende/.pyenv/versions/3.10.6/lib/python3.10/site-packages (from requests) (2.0.7)\n",
      "Requirement already satisfied: certifi>=2017.4.17 in /home/pedrocrezende/.pyenv/versions/3.10.6/lib/python3.10/site-packages (from requests) (2023.7.22)\n",
      "Note: you may need to restart the kernel to use updated packages.\n",
      "Requirement already satisfied: pysqlite3 in /home/pedrocrezende/.pyenv/versions/3.10.6/lib/python3.10/site-packages (0.5.2)\n",
      "Note: you may need to restart the kernel to use updated packages.\n"
     ]
    }
   ],
   "source": [
    "%pip install requests\n",
    "%pip install pysqlite3"
   ]
  },
  {
   "cell_type": "code",
   "execution_count": 79,
   "metadata": {},
   "outputs": [],
   "source": [
    "import requests\n",
    "import json\n",
    "import time\n",
    "from kafka import KafkaProducer"
   ]
  },
  {
   "cell_type": "markdown",
   "metadata": {},
   "source": [
    "# Connection with an API"
   ]
  },
  {
   "cell_type": "code",
   "execution_count": 80,
   "metadata": {},
   "outputs": [
    {
     "data": {
      "text/plain": [
       "'https://br1.api.riotgames.com/lol/summoner/v4/summoners/by-name/LokoLoko00?api_key=RGAPI-945a005d-b5ab-4fbc-883a-c7f781727e4d'"
      ]
     },
     "execution_count": 80,
     "metadata": {},
     "output_type": "execute_result"
    }
   ],
   "source": [
    "api_key= \"RGAPI-945a005d-b5ab-4fbc-883a-c7f781727e4d\" # API KEY que fica ativa somente por 24h (dia 01/11/2023)\n",
    "url = \"https://br1.api.riotgames.com/lol/summoner/v4/summoners/by-name/LokoLoko00\"\n",
    "\n",
    "api_url = url + \"?api_key=\" + api_key\n",
    "api_url"
   ]
  },
  {
   "cell_type": "code",
   "execution_count": 81,
   "metadata": {},
   "outputs": [
    {
     "data": {
      "text/plain": [
       "<Response [200]>"
      ]
     },
     "execution_count": 81,
     "metadata": {},
     "output_type": "execute_result"
    }
   ],
   "source": [
    "response = requests.get(api_url)\n",
    "response"
   ]
  },
  {
   "cell_type": "code",
   "execution_count": 82,
   "metadata": {},
   "outputs": [
    {
     "data": {
      "text/plain": [
       "{'id': 'qgCJKD7lbLjZ1SxGckiPp87vdjaqnT13M6pzmf6wVSc4ExY',\n",
       " 'accountId': '9C0i1eT680yVKF8_GzXjN7IxCg-F4iHYZaLZHsMDrKdCqb0qCxchERi8',\n",
       " 'puuid': 'NPdm8EMy85kH4WLvCLF6ZMwvpezUG27Fqp2lvS4X2-KafoM9iRBwgk2FHI2FQ0mVxgY8kO_xflftMg',\n",
       " 'name': 'LokoLoko00',\n",
       " 'profileIconId': 665,\n",
       " 'revisionDate': 1698645479000,\n",
       " 'summonerLevel': 216}"
      ]
     },
     "execution_count": 82,
     "metadata": {},
     "output_type": "execute_result"
    }
   ],
   "source": [
    "response.json()"
   ]
  },
  {
   "cell_type": "markdown",
   "metadata": {},
   "source": [
    "# Envio do conteúdo"
   ]
  },
  {
   "cell_type": "code",
   "execution_count": 91,
   "metadata": {},
   "outputs": [],
   "source": [
    "producer = KafkaProducer(bootstrap_servers='localhost:9092')"
   ]
  },
  {
   "cell_type": "code",
   "execution_count": 92,
   "metadata": {},
   "outputs": [
    {
     "name": "stdout",
     "output_type": "stream",
     "text": [
      "Obtendo dados de perfil do LOL!\n",
      "{\"id\": \"qgCJKD7lbLjZ1SxGckiPp87vdjaqnT13M6pzmf6wVSc4ExY\"}\n",
      "Parte 'id' dos dados de perfil, enviado para o Kafka.\n",
      "Obtendo dados de perfil do LOL!\n",
      "{\"accountId\": \"9C0i1eT680yVKF8_GzXjN7IxCg-F4iHYZaLZHsMDrKdCqb0qCxchERi8\"}\n",
      "Parte 'accountId' dos dados de perfil, enviado para o Kafka.\n",
      "Obtendo dados de perfil do LOL!\n",
      "{\"puuid\": \"NPdm8EMy85kH4WLvCLF6ZMwvpezUG27Fqp2lvS4X2-KafoM9iRBwgk2FHI2FQ0mVxgY8kO_xflftMg\"}\n",
      "Parte 'puuid' dos dados de perfil, enviado para o Kafka.\n",
      "Obtendo dados de perfil do LOL!\n",
      "{\"name\": \"LokoLoko00\"}\n",
      "Parte 'name' dos dados de perfil, enviado para o Kafka.\n",
      "Obtendo dados de perfil do LOL!\n",
      "{\"profileIconId\": 665}\n",
      "Parte 'profileIconId' dos dados de perfil, enviado para o Kafka.\n",
      "Obtendo dados de perfil do LOL!\n",
      "{\"revisionDate\": 1698645479000}\n",
      "Parte 'revisionDate' dos dados de perfil, enviado para o Kafka.\n",
      "Obtendo dados de perfil do LOL!\n",
      "{\"summonerLevel\": 216}\n",
      "Parte 'summonerLevel' dos dados de perfil, enviado para o Kafka.\n",
      "Dados de perfil enviados com sucesso para o tópico do Kafka!\n"
     ]
    }
   ],
   "source": [
    "if response.status_code == 200:\n",
    "    data = response.json()\n",
    "\n",
    "    for item, conteudo in data.items():\n",
    "        print(f\"Obtendo dados de perfil do LOL!\")\n",
    "        \n",
    "        if conteudo:\n",
    "            record = {\n",
    "                item: conteudo,\n",
    "            }\n",
    "\n",
    "            json_record = json.dumps(record)\n",
    "            \n",
    "            print(json_record)\n",
    "\n",
    "            producer.send('atividade_kafka', value=json_record.encode('utf-8'))\n",
    "\n",
    "            print(f\"Parte '{item}' dos dados de perfil, enviado para o Kafka.\")\n",
    "        else:\n",
    "            print(f\"Erro: Dados vazios, referente à {item}.\")\n",
    "    \n",
    "    producer.flush()\n",
    "    producer.close()\n",
    "\n",
    "    print(f\"Dados de perfil enviados com sucesso para o tópico do Kafka!\")\n",
    "else:\n",
    "    print(f\"Erro ao acessar a API da Riot. Código de status: {response.status_code}\")"
   ]
  },
  {
   "cell_type": "code",
   "execution_count": null,
   "metadata": {},
   "outputs": [],
   "source": []
  }
 ],
 "metadata": {
  "kernelspec": {
   "display_name": "Python 3",
   "language": "python",
   "name": "python3"
  },
  "language_info": {
   "codemirror_mode": {
    "name": "ipython",
    "version": 3
   },
   "file_extension": ".py",
   "mimetype": "text/x-python",
   "name": "python",
   "nbconvert_exporter": "python",
   "pygments_lexer": "ipython3",
   "version": "3.10.6"
  }
 },
 "nbformat": 4,
 "nbformat_minor": 2
}
