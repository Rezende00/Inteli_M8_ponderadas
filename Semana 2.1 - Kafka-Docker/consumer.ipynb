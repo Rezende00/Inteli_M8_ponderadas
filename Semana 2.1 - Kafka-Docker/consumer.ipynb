{
 "cells": [
  {
   "cell_type": "markdown",
   "metadata": {},
   "source": [
    "# Import Libraries"
   ]
  },
  {
   "cell_type": "code",
   "execution_count": 3,
   "metadata": {},
   "outputs": [
    {
     "name": "stdout",
     "output_type": "stream",
     "text": [
      "Collecting kafka-python\n",
      "  Using cached kafka_python-2.0.2-py2.py3-none-any.whl (246 kB)\n",
      "Installing collected packages: kafka-python\n",
      "Successfully installed kafka-python-2.0.2\n",
      "Note: you may need to restart the kernel to use updated packages.\n"
     ]
    }
   ],
   "source": [
    "%pip install kafka-python"
   ]
  },
  {
   "cell_type": "code",
   "execution_count": 1,
   "metadata": {},
   "outputs": [],
   "source": [
    "from kafka import KafkaConsumer\n",
    "import sqlite3\n",
    "import json\n",
    "import logging"
   ]
  },
  {
   "cell_type": "markdown",
   "metadata": {},
   "source": [
    "# Criação de uma tabela no SQLite"
   ]
  },
  {
   "cell_type": "code",
   "execution_count": 2,
   "metadata": {},
   "outputs": [
    {
     "name": "stdout",
     "output_type": "stream",
     "text": [
      "Tabela 'league' criada com sucesso!\n"
     ]
    }
   ],
   "source": [
    "conn = sqlite3.connect('data.sql')\n",
    "cursor = conn.cursor()\n",
    "\n",
    "cursor.execute('''\n",
    "CREATE TABLE IF NOT EXISTS league (\n",
    "    id INTEGER PRIMARY KEY,\n",
    "    accountId INTEGER,\n",
    "    puuid TEXT,\n",
    "    name TEXT,\n",
    "    profileIconId INTEGER,\n",
    "    revisionDate DATE,\n",
    "    summonerLevel INTEGER);\n",
    "''')\n",
    "conn.commit()\n",
    "\n",
    "print(\"Tabela 'league' criada com sucesso!\")\n",
    "cursor.close()\n",
    "conn.close()"
   ]
  },
  {
   "cell_type": "code",
   "execution_count": 10,
   "metadata": {},
   "outputs": [
    {
     "name": "stdout",
     "output_type": "stream",
     "text": [
      "Todos os dados da tabela 'league' foram deletados!\n"
     ]
    }
   ],
   "source": [
    "conn = sqlite3.connect('data.sql')\n",
    "cursor = conn.cursor()\n",
    "cursor.execute('DELETE FROM league')\n",
    "conn.commit()\n",
    "\n",
    "print(\"Todos os dados da tabela 'league' foram deletados!\")\n",
    "cursor.close()\n",
    "conn.close()"
   ]
  },
  {
   "cell_type": "markdown",
   "metadata": {},
   "source": [
    "# Leitura e inserção de dados no SQLite"
   ]
  },
  {
   "cell_type": "code",
   "execution_count": 11,
   "metadata": {},
   "outputs": [
    {
     "name": "stderr",
     "output_type": "stream",
     "text": [
      "INFO:kafka.conn:<BrokerConnection node_id=bootstrap-0 host=localhost:9092 <connecting> [IPv4 ('127.0.0.1', 9092)]>: connecting to localhost:9092 [('127.0.0.1', 9092) IPv4]\n",
      "INFO:kafka.conn:Probing node bootstrap-0 broker version\n",
      "INFO:kafka.conn:<BrokerConnection node_id=bootstrap-0 host=localhost:9092 <connecting> [IPv4 ('127.0.0.1', 9092)]>: Connection complete.\n",
      "INFO:kafka.conn:Broker version identified as 2.4.0\n",
      "INFO:kafka.conn:Set configuration api_version=(2, 4, 0) to skip auto check_version requests on startup\n",
      "WARNING:kafka.coordinator.consumer:group_id is None: disabling auto-commit.\n",
      "INFO:kafka.consumer.subscription_state:Updating subscribed topics to: ('atividade_kafka',)\n"
     ]
    }
   ],
   "source": [
    "consumer = KafkaConsumer('atividade_kafka', bootstrap_servers='localhost:9092')\n",
    "conn = sqlite3.connect('data.sql')\n",
    "cursor = conn.cursor()"
   ]
  },
  {
   "cell_type": "code",
   "execution_count": 12,
   "metadata": {},
   "outputs": [
    {
     "name": "stderr",
     "output_type": "stream",
     "text": [
      "INFO:kafka.conn:<BrokerConnection node_id=bootstrap-0 host=localhost:9092 <connecting> [IPv4 ('127.0.0.1', 9092)]>: connecting to localhost:9092 [('127.0.0.1', 9092) IPv4]\n",
      "INFO:kafka.conn:Probing node bootstrap-0 broker version\n",
      "INFO:kafka.conn:<BrokerConnection node_id=bootstrap-0 host=localhost:9092 <connecting> [IPv4 ('127.0.0.1', 9092)]>: Connection complete.\n",
      "INFO:kafka.conn:Broker version identified as 2.4.0\n",
      "INFO:kafka.conn:Set configuration api_version=(2, 4, 0) to skip auto check_version requests on startup\n",
      "WARNING:kafka.coordinator.consumer:group_id is None: disabling auto-commit.\n",
      "INFO:kafka.consumer.subscription_state:Updating subscribed topics to: ('atividade_kafka',)\n",
      "INFO:kafka.consumer.subscription_state:Updated partition assignment: [TopicPartition(topic='atividade_kafka', partition=0)]\n",
      "INFO:kafka.conn:<BrokerConnection node_id=1 host=localhost:9092 <connecting> [IPv4 ('127.0.0.1', 9092)]>: connecting to localhost:9092 [('127.0.0.1', 9092) IPv4]\n",
      "INFO:kafka.conn:<BrokerConnection node_id=1 host=localhost:9092 <connecting> [IPv4 ('127.0.0.1', 9092)]>: Connection complete.\n",
      "INFO:kafka.conn:<BrokerConnection node_id=bootstrap-0 host=localhost:9092 <connected> [IPv4 ('127.0.0.1', 9092)]>: Closing connection. \n",
      "ERROR:root:Erro ao inserir no SQLite: datatype mismatch\n",
      "INFO:root:Informações do perfil foram inseridas no SQLite.\n",
      "INFO:root:Mensagem do Kafka ouvida: b'{\"accountId\": \"9C0i1eT680yVKF8_GzXjN7IxCg-F4iHYZaLZHsMDrKdCqb0qCxchERi8\"}'\n",
      "INFO:root:Informações do perfil foram inseridas no SQLite.\n",
      "INFO:root:Mensagem do Kafka ouvida: b'{\"puuid\": \"NPdm8EMy85kH4WLvCLF6ZMwvpezUG27Fqp2lvS4X2-KafoM9iRBwgk2FHI2FQ0mVxgY8kO_xflftMg\"}'\n",
      "INFO:root:Informações do perfil foram inseridas no SQLite.\n",
      "INFO:root:Mensagem do Kafka ouvida: b'{\"name\": \"LokoLoko00\"}'\n",
      "INFO:root:Informações do perfil foram inseridas no SQLite.\n",
      "INFO:root:Mensagem do Kafka ouvida: b'{\"profileIconId\": 665}'\n",
      "INFO:root:Informações do perfil foram inseridas no SQLite.\n",
      "INFO:root:Mensagem do Kafka ouvida: b'{\"revisionDate\": 1698645479000}'\n",
      "INFO:root:Informações do perfil foram inseridas no SQLite.\n",
      "INFO:root:Mensagem do Kafka ouvida: b'{\"summonerLevel\": 216}'\n",
      "INFO:root:Parando o consumer...\n",
      "INFO:kafka.conn:<BrokerConnection node_id=1 host=localhost:9092 <connected> [IPv4 ('127.0.0.1', 9092)]>: Closing connection. \n",
      "ERROR:kafka.consumer.fetcher:Fetch to node 1 failed: Cancelled: <BrokerConnection node_id=1 host=localhost:9092 <connected> [IPv4 ('127.0.0.1', 9092)]>\n"
     ]
    }
   ],
   "source": [
    "logging.basicConfig(level=logging.INFO)\n",
    "\n",
    "def kafka_callback(body, cursor, conn):\n",
    "    try:\n",
    "        if body.value:\n",
    "            data = json.loads(body.value)\n",
    "            \n",
    "            id = data.get('id', None)\n",
    "            accountId = data.get('accountId', None)\n",
    "            puuid = data.get('puuid', None)\n",
    "            name = data.get('name', None)\n",
    "            profileIconId = data.get('profileIconId', None)\n",
    "            revisionDate = data.get('revisionDate', None)\n",
    "            summonerLevel = data.get('summonerLevel', None)\n",
    "            \n",
    "            cursor.execute('''\n",
    "            INSERT INTO league (\n",
    "                id, accountId, puuid, name, profileIconId, revisionDate, summonerLevel\n",
    "                )\n",
    "            VALUES (?, ?, ?, ?, ?, ?, ?)\n",
    "            ''', \n",
    "            (id, accountId, puuid, name, profileIconId, revisionDate, summonerLevel))\n",
    "\n",
    "            conn.commit()\n",
    "            \n",
    "            logging.info(\"Informações do perfil foram inseridas no SQLite.\")\n",
    "        else:\n",
    "            logging.warning(\"Erro: Mensagem não está em formato JSON válido. Ignorando...\")\n",
    "\n",
    "        logging.info(\"Mensagem do Kafka ouvida: %s\", body.value)\n",
    "\n",
    "    except json.JSONDecodeError as e:\n",
    "        logging.error(\"Erro ao decodificar a mensagem JSON: %s\", e)\n",
    "    except Exception as e:\n",
    "        logging.error(\"Erro ao inserir no SQLite: %s\", e)\n",
    "\n",
    "if __name__ == \"__main__\":\n",
    "    conn = sqlite3.connect('data.sql')\n",
    "    cursor = conn.cursor()\n",
    "\n",
    "    consumer = KafkaConsumer('atividade_kafka', bootstrap_servers='localhost:9092')\n",
    "\n",
    "    try:\n",
    "        for body in consumer:\n",
    "            kafka_callback(body, cursor, conn)\n",
    "    except KeyboardInterrupt:\n",
    "        logging.info(\"Parando o consumer...\")\n",
    "    finally:\n",
    "        conn.close()\n",
    "        consumer.close()"
   ]
  },
  {
   "cell_type": "code",
   "execution_count": null,
   "metadata": {},
   "outputs": [],
   "source": []
  }
 ],
 "metadata": {
  "kernelspec": {
   "display_name": "Python 3",
   "language": "python",
   "name": "python3"
  },
  "language_info": {
   "codemirror_mode": {
    "name": "ipython",
    "version": 3
   },
   "file_extension": ".py",
   "mimetype": "text/x-python",
   "name": "python",
   "nbconvert_exporter": "python",
   "pygments_lexer": "ipython3",
   "version": "3.10.6"
  }
 },
 "nbformat": 4,
 "nbformat_minor": 2
}
