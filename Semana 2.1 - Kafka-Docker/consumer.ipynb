{
 "cells": [
  {
   "cell_type": "markdown",
   "metadata": {},
   "source": [
    "# Import Libraries"
   ]
  },
  {
   "cell_type": "code",
   "execution_count": 3,
   "metadata": {},
   "outputs": [
    {
     "name": "stdout",
     "output_type": "stream",
     "text": [
      "Collecting kafka-python\n",
      "  Using cached kafka_python-2.0.2-py2.py3-none-any.whl (246 kB)\n",
      "Installing collected packages: kafka-python\n",
      "Successfully installed kafka-python-2.0.2\n",
      "Note: you may need to restart the kernel to use updated packages.\n"
     ]
    }
   ],
   "source": [
    "%pip install kafka-python"
   ]
  },
  {
   "cell_type": "code",
   "execution_count": 4,
   "metadata": {},
   "outputs": [],
   "source": [
    "from kafka import KafkaConsumer\n",
    "import sqlite3\n",
    "import json"
   ]
  },
  {
   "cell_type": "markdown",
   "metadata": {},
   "source": [
    "# Criação de uma tabela no SQLite"
   ]
  },
  {
   "cell_type": "code",
   "execution_count": 5,
   "metadata": {},
   "outputs": [
    {
     "name": "stdout",
     "output_type": "stream",
     "text": [
      "Tabela 'league' criada com sucesso!\n"
     ]
    }
   ],
   "source": [
    "conn = sqlite3.connect('data.sql')\n",
    "cursor = conn.cursor()\n",
    "\n",
    "cursor.execute('''\n",
    "CREATE TABLE IF NOT EXISTS league (\n",
    "    id INTEGER PRIMARY KEY,\n",
    "    accountId INTEGER,\n",
    "    puuid TEXT,\n",
    "    name TEXT,\n",
    "    profileIconId INTEGER,\n",
    "    revisionDate DATE,\n",
    "    summonerLevel INTEGER);\n",
    "''')\n",
    "conn.commit()\n",
    "\n",
    "print(\"Tabela 'league' criada com sucesso!\")\n",
    "cursor.close()\n",
    "conn.close()"
   ]
  },
  {
   "cell_type": "code",
   "execution_count": 6,
   "metadata": {},
   "outputs": [
    {
     "name": "stdout",
     "output_type": "stream",
     "text": [
      "Todos os dados da tabela 'league' foram deletados!\n"
     ]
    }
   ],
   "source": [
    "conn = sqlite3.connect('data.sql')\n",
    "cursor = conn.cursor()\n",
    "cursor.execute('DELETE FROM league')\n",
    "conn.commit()\n",
    "\n",
    "print(\"Todos os dados da tabela 'league' foram deletados!\")\n",
    "cursor.close()\n",
    "conn.close()"
   ]
  },
  {
   "cell_type": "markdown",
   "metadata": {},
   "source": [
    "# Leitura e inserção de dados no SQLite"
   ]
  },
  {
   "cell_type": "code",
   "execution_count": null,
   "metadata": {},
   "outputs": [],
   "source": [
    "# Configurações do Kafka Consumer\n",
    "consumer = KafkaConsumer('atividade_kafka', bootstrap_servers='localhost:9092')\n",
    "\n",
    "# Conexão ao SQLite\n",
    "conn = sqlite3.connect('data.sql')\n",
    "cursor = conn.cursor()\n",
    "\n",
    "def is_numeric(value):\n",
    "    try:\n",
    "        float(value)\n",
    "        return True\n",
    "    except (ValueError, TypeError):\n",
    "        return False\n",
    "\n",
    "# Função para tratar os dados de cada coluna\n",
    "def process_data(data):\n",
    "    # Verifica e trata cada coluna\n",
    "    data['id'] = data.get('id', None)\n",
    "    data['accountId'] = bool(data.get('adult', False))\n",
    "    data['puuid'] = data.get('backdrop_path', None)\n",
    "    data['name'] = data.get('belongs_to_collection', None)\n",
    "    data['profileIconId'] = data.get('budget', None)\n",
    "    data['revisionDate'] = data.get('homepage', None)\n",
    "    data['summonerLevel'] = data.get('imdb_id', None)\n",
    "\n",
    "    # Adicione verificações e tratamentos adicionais para outras colunas, se necessário\n",
    "\n",
    "    return data\n",
    "\n",
    "# Função callback para processar mensagens do Kafka\n",
    "def kafka_callback(message):\n",
    "    try:\n",
    "        if message.value:\n",
    "            data = json.loads(message.value)\n",
    "\n",
    "            if isinstance(data, dict):\n",
    "                # Processa os dados antes da inserção\n",
    "                data = process_data(data)\n",
    "\n",
    "                cursor.execute('''\n",
    "                INSERT INTO movies (\n",
    "                    id, adult, backdrop_path, belongs_to_collection, budget, homepage,\n",
    "                    imdb_id, original_language, original_title, overview, popularity,\n",
    "                    poster_path, video, vote_average, vote_count, name, url\n",
    "                )\n",
    "                VALUES (?, ?, ?, ?, ?, ?, ?, ?, ?, ?, ?, ?, ?, ?, ?, ?, ?)\n",
    "                ''', (\n",
    "                    data['id'], data['adult'], data['backdrop_path'], \n",
    "                    data['belongs_to_collection'], data['budget'], data['homepage'],\n",
    "                    data['imdb_id'], data['original_language'], data['original_title'], \n",
    "                    data['overview'], data['popularity'], data['poster_path'],\n",
    "                    data['video'], data['vote_average'], data['vote_count'], \n",
    "                    data['name'], data['url']\n",
    "                ))\n",
    "                conn.commit()\n",
    "\n",
    "                print(f\"Dados do filme {data['name']} foram inseridos no SQLite.\")\n",
    "            else:\n",
    "                print(\"Erro: Mensagem não está em formato JSON válido. Ignorando...\")\n",
    "\n",
    "        print(\"Mensagem do Kafka ouvida: \", message.value)\n",
    "\n",
    "    except json.JSONDecodeError as e:\n",
    "        print(f\"Erro ao decodificar a mensagem JSON: {e}\")\n",
    "    except Exception as e:\n",
    "        print(f\"Erro ao inserir no SQLite: {e}\")\n",
    "\n",
    "# Loop para consumir mensagens do Kafka\n",
    "for message in consumer:\n",
    "    kafka_callback(message)\n",
    "\n",
    "# Fechando a conexão do SQLite\n",
    "conn.close()"
   ]
  }
 ],
 "metadata": {
  "kernelspec": {
   "display_name": "Python 3",
   "language": "python",
   "name": "python3"
  },
  "language_info": {
   "codemirror_mode": {
    "name": "ipython",
    "version": 3
   },
   "file_extension": ".py",
   "mimetype": "text/x-python",
   "name": "python",
   "nbconvert_exporter": "python",
   "pygments_lexer": "ipython3",
   "version": "3.10.6"
  }
 },
 "nbformat": 4,
 "nbformat_minor": 2
}
